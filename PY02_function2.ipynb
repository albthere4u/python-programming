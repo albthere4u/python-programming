{
 "cells": [
  {
   "cell_type": "markdown",
   "metadata": {},
   "source": [
    "### List Comprehensions\n",
    "- A powerful feature of the Python language.\n",
    " - original list의 모든 member에 함수를 적용하여, 새로운 list를 generate.\n",
    " - list comprehensions은 실제코드에서 많이 보게 된다.\n",
    "- `[<expression> for <element> in <list>]`\n",
    " - `<expression>`은 `<element>`에 대한 계산/연산이다."
   ]
  },
  {
   "cell_type": "code",
   "execution_count": 1,
   "metadata": {
    "collapsed": false
   },
   "outputs": [
    {
     "data": {
      "text/plain": [
       "[6, 12, 4, 14]"
      ]
     },
     "execution_count": 1,
     "metadata": {},
     "output_type": "execute_result"
    }
   ],
   "source": [
    "li = [3, 6, 2, 7]\n",
    "[elem*2 for elem in li]"
   ]
  },
  {
   "cell_type": "markdown",
   "metadata": {},
   "source": [
    "- Tuple을 이용하여 list comprehensions를 사용할 수 있다."
   ]
  },
  {
   "cell_type": "code",
   "execution_count": 2,
   "metadata": {
    "collapsed": false
   },
   "outputs": [
    {
     "data": {
      "text/plain": [
       "[2, 4, 6, 8]"
      ]
     },
     "execution_count": 2,
     "metadata": {},
     "output_type": "execute_result"
    }
   ],
   "source": [
    "tu = (1,2,3,4)\n",
    "[elem*2 for elem in tu]"
   ]
  },
  {
   "cell_type": "code",
   "execution_count": 3,
   "metadata": {
    "collapsed": false
   },
   "outputs": [
    {
     "data": {
      "text/plain": [
       "(2, 4, 6, 8)"
      ]
     },
     "execution_count": 3,
     "metadata": {},
     "output_type": "execute_result"
    }
   ],
   "source": [
    "# list comprehension을 사용하여 tuple을 생성하고 싶을 때\n",
    "tuple([elem*2 for elem in tu])"
   ]
  },
  {
   "cell_type": "markdown",
   "metadata": {},
   "source": [
    "- `<element>`는 single element뿐만이 아닌, collection이 올 수 있다. 이 경우 list comprehensions 표현식에서 `<element>`는 `<list>`의 개별 원소와 shape이 동일해야 한다."
   ]
  },
  {
   "cell_type": "code",
   "execution_count": 4,
   "metadata": {
    "collapsed": false
   },
   "outputs": [
    {
     "name": "stdout",
     "output_type": "stream",
     "text": [
      "[3, 6, 21]\n",
      "['a', 'b', 'c']\n"
     ]
    }
   ],
   "source": [
    "li = [('a', 1), ('b', 2), ('c', 7)]\n",
    "# List Comprehensions표현식에서의 (x,n) shape은 li의 개별원소와 shape이 같아야 한다.\n",
    "print [n*3 for (x, n) in li]\n",
    "print [x for (x, n) in li]"
   ]
  },
  {
   "cell_type": "markdown",
   "metadata": {},
   "source": [
    "### Filtered List Comprehension\n",
    "- `[<expression> for <element> in <list> if <filter>]`\n",
    "- `<filter>`는 `<list>`의 각 `<element>`에 대하여 `<expression>`을 수행할지 말지를 결정한다.\n",
    " - 각 `<list>`의 각 `<element>`에 대하여, 먼저 `<filter>` 조건을 만족하는지 체크한다.\n",
    " - `<filter>` 조건이 False 값을 반환하면, 그 `<element>`는 `<list>`의 list comprehension에서 제외된다."
   ]
  },
  {
   "cell_type": "code",
   "execution_count": 5,
   "metadata": {
    "collapsed": false
   },
   "outputs": [
    {
     "data": {
      "text/plain": [
       "[12, 14, 18]"
      ]
     },
     "execution_count": 5,
     "metadata": {},
     "output_type": "execute_result"
    }
   ],
   "source": [
    "li = [3, 6, 2, 7, 1, 9]\n",
    "[elem*2 for elem in li if elem > 4] # filter 조건에 의하여 6, 7, 9 원소만 만족"
   ]
  },
  {
   "cell_type": "markdown",
   "metadata": {},
   "source": [
    "### Nested List Comprehensions\n",
    "- List comprehensions은 list를 input으로 취하고, output으로 list를 반환하기 때문에, nested 형태로 쉽게 만들 수 있다."
   ]
  },
  {
   "cell_type": "code",
   "execution_count": 6,
   "metadata": {
    "collapsed": false
   },
   "outputs": [
    {
     "data": {
      "text/plain": [
       "[8, 6, 10, 4]"
      ]
     },
     "execution_count": 6,
     "metadata": {},
     "output_type": "execute_result"
    }
   ],
   "source": [
    "li = [3, 2, 4, 1]\n",
    "# inner list comprehension : [4, 3, 5, 2]\n",
    "# outer list comprehension : [8, 6, 10, 4]\n",
    "[elem*2 for elem in [item+1 for item in li]]"
   ]
  }
 ],
 "metadata": {
  "anaconda-cloud": {},
  "kernelspec": {
   "display_name": "Python [conda root]",
   "language": "python",
   "name": "conda-root-py"
  },
  "language_info": {
   "codemirror_mode": {
    "name": "ipython",
    "version": 2
   },
   "file_extension": ".py",
   "mimetype": "text/x-python",
   "name": "python",
   "nbconvert_exporter": "python",
   "pygments_lexer": "ipython2",
   "version": "2.7.12"
  }
 },
 "nbformat": 4,
 "nbformat_minor": 1
}
